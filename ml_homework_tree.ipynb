{
  "cells": [
    {
      "cell_type": "code",
      "execution_count": 21,
      "metadata": {
        "colab": {
          "base_uri": "https://localhost:8080/"
        },
        "id": "Rf3ZqiT1J4Lw",
        "outputId": "01bcb263-3996-49dd-aed6-e6c0d25642ff"
      },
      "outputs": [
        {
          "output_type": "execute_result",
          "data": {
            "text/plain": [
              "[['logP', 'PSA', 'mol_weight', 'num_rings', 'label'],\n",
              " ['5.4793', '26.02', '285.467', '3', 'DECOY'],\n",
              " ['-2.6044', '119.16', '314.427', '2', 'DECOY'],\n",
              " ['4.084', '113.71', '388.419', '3', 'DECOY'],\n",
              " ['2.4577', '106.56', '319.331', '2', 'DECOY']]"
            ]
          },
          "metadata": {},
          "execution_count": 21
        }
      ],
      "source": [
        "# CELL 1\n",
        "\n",
        "import csv\n",
        "import requests\n",
        "\n",
        "# Download the CSV file using requests\n",
        "url = 'https://raw.githubusercontent.com/durrantlab/colab-support-files/refs/heads/main/drug_data_props_active.csv'\n",
        "response = requests.get(url)\n",
        "response.raise_for_status()  # Raise an exception for HTTP errors\n",
        "\n",
        "# Read the CSV data\n",
        "data = response.text.splitlines()\n",
        "reader = csv.reader(data)\n",
        "data_and_header = list(reader)\n",
        "\n",
        "# Show the first 5 rows of the data\n",
        "data_and_header[:5]"
      ]
    },
    {
      "cell_type": "code",
      "execution_count": 23,
      "metadata": {
        "colab": {
          "base_uri": "https://localhost:8080/"
        },
        "id": "j9kL2VGAJ4Lx",
        "outputId": "471364c0-7ee8-4390-c268-321b77c77759"
      },
      "outputs": [
        {
          "output_type": "stream",
          "name": "stdout",
          "text": [
            "['-2.6044,119.16,314.427,2,DECOY', '4.084,113.71,388.419,3,DECOY', '2.4577,106.56,319.331,2,DECOY', '2.4139,43.43,225.309,3,DECOY', '1.8364,147.78,379.845,3,DECOY', '4.6131,98.64,308.288,3,DECOY', '2.70148,56.05,250.295,3,DECOY', '1.9776,95.97,354.395,1,DECOY', '-0.5371,80.26,212.242,1,DECOY', '-0.0266,122.41,304.108,1,DECOY', '4.0074,60.38,275.714,2,DECOY', '3.1473,44.62,212.676,1,DECOY', '4.4398,66.15,297.168,2,DECOY', '1.8525,164.27,338.342,2,DECOY', '5.0999,44.95,266.27,3,DECOY', '4.047,36.95,247.295,4,DECOY', '2.3771,55.12,178.231,1,DECOY', '2.7314,90.58,280.124,2,DECOY', '5.0261,20.23,290.483,4,DECOY', '4.1347,95.15,304.755,3,DECOY', '0.7059,86.88,240.259,2,DECOY', '4.663,45.34,310.284,3,DECOY', '2.2271,33.46,253.322,3,DECOY', '1.9233,60.19,204.248,3,DECOY', '0.8829,89.83,291.306,3,DECOY', '1.0331,120.05,325.453,3,DECOY', '4.6099,103.85,318.396,4,DECOY', '4.2694,58.56,307.343,3,DECOY', '0.9773,19.37,189.257,3,DECOY', '-1.3479,86.99,190.194,1,DECOY', '3.79538,103.44,342.803,3,DECOY', '-0.5691,110.05,243.303,2,DECOY', '-1.2523,92.93,209.248,1,DECOY', '4.9012,60.44,412.562,5,DECOY', '3.4454,111.52,499.576,5,DECOY', '4.7362,74.27,449.602,5,DECOY', '1.1124,93.66,178.214,2,DECOY', '0.6078,89.85,203.201,2,DECOY', '0.0837,72.68,222.244,2,DECOY', '1.1036,74.69,219.028,2,DECOY', '6.067,58.2,369.563,5,DECOY', '3.1473,44.62,212.676,1,DECOY', '4.8574,103.32,384.655,2,DECOY', '5.0657,119.95,483.492,4,DECOY', '4.2801,57.08,356.548,4,DECOY', '0.002,86.74,262.238,2,DECOY', '4.6865,85.41,376.533,4,DECOY', '1.9089,78.01,231.251,2,DECOY', '5.6261,36.09,323.475,3,DECOY', '5.286,117.22,346.383,3,DECOY', '-3.7816,117.18,246.171,2,DECOY', '0.6462,37.3,260.12,3,DECOY', '3.5566,94.5,445.611,4,DECOY', '1.8379,38.2,169.244,2,DECOY', '1.9,80.04,157.237,1,DECOY', '3.5509,67.93,250.295,3,DECOY', '4.5403,110.31,391.438,2,DECOY', '-0.3899,197.08,346.32,3,DECOY', '6.3052,71.66,476.569,5,DECOY', '0.2813,128.58,252.25,2,DECOY', '1.8908,24.67,186.314,0,DECOY', '2.0796,81.42,348.352,5,DECOY', '1.3737,60.21,307.598,2,DECOY', '-0.34612,61.41,146.169,1,DECOY', '1.9776,95.97,354.395,1,DECOY', '0.4823,76.26,268.267,3,DECOY', '2.5841,74.25,220.291,3,DECOY', '3.5042,47.8,326.456,3,DECOY', '1.7255,50.7,173.211,2,DECOY', '1.7101,38.66,179.216,1,DECOY', '3.8404,116.24,296.345,2,DECOY', '-0.1539,108.01,151.129,2,DECOY', '1.8028,51.08,185.29,1,DECOY', '1.79,80.01,205.236,2,DECOY', '3.3967,94.45,458.544,6,DECOY', '2.799,58.86,287.747,3,DECOY', '0.876,99.32,403.906,3,DECOY', '-0.7145,77.89,181.195,2,DECOY', '1.1193,50.93,238.26,2,DECOY', '1.4994,69.57,366.502,3,DECOY', '4.8387,68.12,347.364,3,DECOY', '0.8096,60.36,277.128,2,DECOY', '0.742,182.88,296.291,3,DECOY', '5.5489,78.12,290.323,3,DECOY', '1.30468,81.25,219.63,2,DECOY', '6.5497,61.36,369.563,5,DECOY', '1.0361,73.06,302.716,3,DECOY', '-0.3578,79.15,240.252,2,DECOY', '0.9413,75.27,232.235,2,DECOY', '1.4227,67.82,209.175,2,DECOY', '1.6027,68.39,245.231,2,DECOY', '2.5882,40.62,346.422,4,DECOY', '0.2129,119.31,198.179,2,DECOY', '3.7466,112.5,286.332,2,DECOY', '3.1062,21.59,193.285,1,DECOY', '1.5787,114.43,422.426,2,DECOY', '5.4793,26.02,285.467,3,DECOY', '-1.3479,86.99,190.194,1,DECOY', '2.6743,30.93,329.433,5,DECOY', '4.8675,116.43,469.576,5,DRUG', '2.0885,153.75,272.281,1,DRUG', '0.9255,121.96,327.376,1,DRUG', '0.3,98.07,265.262,2,DRUG', '2.7735,137.53,308.333,1,DRUG', '1.8093,87.66,310.389,1,DRUG', '5.3584,89.24,496.627,6,DRUG', '3.9656,124.16,547.488,3,DRUG', '3.9231,124.16,533.461,3,DRUG', '4.266,90.9,445.595,2,DRUG', '3.4284,96.89,404.5,2,DRUG', '3.7024,93.45,405.506,2,DRUG', '5.0657,74.66,485.644,6,DRUG', '0.6106,187.22,428.48,2,DRUG', '4.1417,112.96,420.565,2,DRUG', '1.9677,121.96,343.419,1,DRUG', '-3.4496,159.71,293.27,1,DRUG', '-3.4809,176.78,309.27,1,DRUG', '3.8486,101.65,366.495,2,DRUG', '1.9891,96.86,436.181,2,DRUG', '4.3275,99,406.854,2,DRUG', '1.7311,159.9,355.433,1,DRUG', '3.9003,253.13,610.476,5,DRUG', '3.07,101.65,326.431,1,DRUG', '4.4661,66.76,338.397,2,DRUG', '4.3324,103.76,439.535,6,DRUG', '0.6798,151.11,339.39,1,DRUG', '0.6311,75.35,560.04,7,DRUG', '2.8816,121.96,431.525,2,DRUG', '1.7582,121.96,389.445,2,DRUG', '1.0536,124.17,315.365,1,DRUG', '4.2832,86.38,476.591,6,DRUG', '6.2377,66.76,406.514,2,DRUG', '5.2493,121.69,455.613,3,DRUG', '1.4638,142.19,405.445,2,DRUG', '1.0208,150,411.496,2,DRUG', '3.4445,40.46,282.377,2,DRUG', '3.1133,110.45,310.303,1,DRUG', '1.0928,106.86,251.235,1,DRUG', '1.5858,96.86,400.2,2,DRUG', '2.0611,93.89,339.43,2,DRUG', '1.1552,98.66,296.362,1,DRUG', '-1.7355,269.43,610.517,5,DRUG', '2.2202,103.12,395.493,3,DRUG', '-1.1314,168.05,301.253,1,DRUG', '3.4297,75.99,314.333,3,DRUG', '0.9553,93.78,279.267,2,DRUG', '-2.4616,172.74,358.347,2,DRUG', '0.2146,203.8,458.506,1,DRUG', '-0.8822,224.52,474.386,1,DRUG', '0.798,447.04,899.084,2,DRUG', '2.76608,106.7,352.407,3,DRUG', '0.8186,86.87,243.303,1,DRUG', '-1.5281,136.32,313.252,1,DRUG', '0.1811,107.1,273.329,1,DRUG', '1.7644,151.11,381.47,2,DRUG', '-1.4022,192.47,377.413,1,DRUG', '0.9993,163.5,433.501,2,DRUG', '0.545,192.47,504.352,2,DRUG', '2.3006,121.96,443.417,2,DRUG', '1.6673,95.5,298.378,1,DRUG', '1.6747,147.26,361.457,1,DRUG', '3.7466,94.14,381.422,4,DRUG', '2.4702,126.53,308.333,1,DRUG', '4.4155,144.91,435.901,2,DRUG', '2.9131,130.35,381.837,2,DRUG', '3.9846,96.89,430.537,2,DRUG', '0.7226,128.2,345.391,1,DRUG', '-3.4809,176.78,309.27,1,DRUG', '2.6724,135.96,398.409,2,DRUG', '0.2774,145.91,418.394,4,DRUG', '-1.3938,163.5,315.326,1,DRUG', '-1.20664,236.97,401.375,1,DRUG', '4.8522,174.29,589.636,3,DRUG', '2.0475,141.72,257.266,1,DRUG', '5.8217,66.76,392.487,3,DRUG', '1.3876,55.48,167.205,1,DRUG', '0.1064,156.55,421.441,2,DRUG', '-0.8788,232.01,531.518,3,DRUG', '3.5947,114.37,397.421,4,DRUG', '5.8633,144.53,623.698,5,DRUG', '0.8196,213.03,544.554,3,DRUG', '1.3376,96.86,337.758,2,DRUG', '2.4944,77.15,366.41,4,DRUG', '0.1603,160.34,341.363,1,DRUG', '-1.0722,227.32,445.467,1,DRUG', '5.4915,136.4,526.621,2,DRUG', '4.2479,109.25,405.488,1,DRUG', '0.3134,110.88,258.271,1,DRUG', '0.7996,226.6,532.566,3,DRUG', '0.9311,83.63,228.288,1,DRUG', '4.6734,142.06,519.697,2,DRUG', '2.7248,110.45,296.276,1,DRUG', '2.7948,135.96,392.446,1,DRUG', '1.523,140.03,312.365,1,DRUG', '0.6635,124.17,301.339,1,DRUG', '1.4835,96.05,275.709,2,DRUG', '0.7995,98.65,257.329,1,DRUG', '-1.7539,185.65,404.412,1,DRUG', '3.7241,55.76,298.333,3,DRUG']\n"
          ]
        }
      ],
      "source": [
        "# CELL 2\n",
        "\n",
        "# Remove the header (first line) from the data. See\n",
        "# https://www.geeksforgeeks.org/python-list-slicing/\n",
        "\n",
        "### COPY THE CODE YOU PUT HERE INTO HOMEWORK QUESTION #1 (CANVAS) ###\n",
        "data = data[1:]\n",
        "print(data)"
      ]
    },
    {
      "cell_type": "code",
      "execution_count": 30,
      "metadata": {
        "colab": {
          "base_uri": "https://localhost:8080/"
        },
        "id": "74E56CtYJ4Lx",
        "outputId": "f6a1676c-0942-459f-a3a7-580a198dda47"
      },
      "outputs": [
        {
          "output_type": "stream",
          "name": "stdout",
          "text": [
            "['-2.6', '4.08', '2.45', '2.41', '1.83', '4.61', '2.70', '1.97', '-0.5', '-0.0', '4.00', '3.14', '4.43', '1.85', '5.09', '4.04', '2.37', '2.73', '5.02', '4.13', '0.70', '4.66', '2.22', '1.92', '0.88', '1.03', '4.60', '4.26', '0.97', '-1.3', '3.79', '-0.5', '-1.2', '4.90', '3.44', '4.73', '1.11', '0.60', '0.08', '1.10', '6.06', '3.14', '4.85', '5.06', '4.28', '0.00', '4.68', '1.90', '5.62', '5.28', '-3.7', '0.64', '3.55', '1.83', '1.9,', '3.55', '4.54', '-0.3', '6.30', '0.28', '1.89', '2.07', '1.37', '-0.3', '1.97', '0.48', '2.58', '3.50', '1.72', '1.71', '3.84', '-0.1', '1.80', '1.79', '3.39', '2.79', '0.87', '-0.7', '1.11', '1.49', '4.83', '0.80', '0.74', '5.54', '1.30', '6.54', '1.03', '-0.3', '0.94', '1.42', '1.60', '2.58', '0.21', '3.74', '3.10', '1.57', '5.47', '-1.3', '2.67', '4.86', '2.08', '0.92', '0.3,', '2.77', '1.80', '5.35', '3.96', '3.92', '4.26', '3.42', '3.70', '5.06', '0.61', '4.14', '1.96', '-3.4', '-3.4', '3.84', '1.98', '4.32', '1.73', '3.90', '3.07', '4.46', '4.33', '0.67', '0.63', '2.88', '1.75', '1.05', '4.28', '6.23', '5.24', '1.46', '1.02', '3.44', '3.11', '1.09', '1.58', '2.06', '1.15', '-1.7', '2.22', '-1.1', '3.42', '0.95', '-2.4', '0.21', '-0.8', '0.79', '2.76', '0.81', '-1.5', '0.18', '1.76', '-1.4', '0.99', '0.54', '2.30', '1.66', '1.67', '3.74', '2.47', '4.41', '2.91', '3.98', '0.72', '-3.4', '2.67', '0.27', '-1.3', '-1.2', '4.85', '2.04', '5.82', '1.38', '0.10', '-0.8', '3.59', '5.86', '0.81', '1.33', '2.49', '0.16', '-1.0', '5.49', '4.24', '0.31', '0.79', '0.93', '4.67', '2.72', '2.79', '1.52', '0.66', '1.48', '0.79', '-1.7', '3.72']\n"
          ]
        }
      ],
      "source": [
        "# CELL 3\n",
        "\n",
        "# The first four columns are the features, and the fifth column is\n",
        "# the labels. Separate the features and labels into two lists.\n",
        "\n",
        "features = [row[:4] for row in data]\n",
        "labels = [row[4] for row in data]\n",
        "print(features)"
      ]
    },
    {
      "cell_type": "code",
      "execution_count": 40,
      "metadata": {
        "id": "AzoiMODYJ4Ly"
      },
      "outputs": [],
      "source": [
        "# CELL 4\n",
        "\n",
        "# The features are all strings. Convert them to floats (numbers) for use in\n",
        "# machine learning. See\n",
        "# https://www.geeksforgeeks.org/convert-string-to-float-in-python/\n",
        "\n",
        "### COPY THE CODE YOU PUT HERE INTO HOMEWORK QUESTION #2 (CANVAS) ###\n",
        "features_num = []\n",
        "for x in features:\n",
        "  x = x.replace(\",\", \"\")\n",
        "  x = float(x)\n",
        "  features_num.append(x)"
      ]
    },
    {
      "cell_type": "code",
      "execution_count": null,
      "metadata": {
        "id": "A6iMQrtHJ4Ly"
      },
      "outputs": [],
      "source": [
        "# CELL 5\n",
        "\n",
        "# The labels are also strings. Convert them to integers. Assign 0\n",
        "# to \"DECOY\" and 1 to \"DRUG\"\n",
        "\n",
        "labels = [0 if x == 'DECOY' else 1 for x in labels]"
      ]
    },
    {
      "cell_type": "code",
      "execution_count": null,
      "metadata": {
        "id": "Da3O4moeJ4Ly"
      },
      "outputs": [],
      "source": [
        "# CELL 6\n",
        "\n",
        "# Import modules from sklearn\n",
        "\n",
        "from sklearn.model_selection import train_test_split\n",
        "from sklearn import tree\n",
        "from sklearn.metrics import accuracy_score"
      ]
    },
    {
      "cell_type": "code",
      "execution_count": null,
      "metadata": {
        "id": "DS75s4emJ4Ly"
      },
      "outputs": [],
      "source": [
        "# CELL 7\n",
        "\n",
        "# Split the data into testing and training sets. Use 25% of the data for\n",
        "# testing. The training-set features should be stored in a variable called\n",
        "# `train_features`. The testing-set features should be stored in a variable\n",
        "# called `test_features`. The training-set labels should be stored in a variable\n",
        "# called `train_labels`. The testing-set labels should be stored in a variable\n",
        "#  called `test_labels`. See\n",
        "# https://scikit-learn.org/1.6/modules/generated/sklearn.model_selection.train_test_split.html\n",
        "# and the example ML code from the lecture slides.\n",
        "\n",
        "train_features, test_features, train_labels, test_labels = ### COPY THE CODE YOU PUT HERE INTO HOMEWORK QUESTION #3 (CANVAS) ###"
      ]
    },
    {
      "cell_type": "code",
      "execution_count": null,
      "metadata": {
        "id": "K8Dkrg-tJ4Ly"
      },
      "outputs": [],
      "source": [
        "# CELL 8\n",
        "\n",
        "# Create a decision tree classifier\n",
        "\n",
        "clf = tree.DecisionTreeClassifier()"
      ]
    },
    {
      "cell_type": "code",
      "execution_count": null,
      "metadata": {
        "id": "_KyqUBFQJ4Ly"
      },
      "outputs": [],
      "source": [
        "# CELL 9\n",
        "\n",
        "# Train the classifier to predict the training-set labels from the training-set\n",
        "# features. See\n",
        "# https://scikit-learn.org/dev/modules/generated/sklearn.tree.DecisionTreeClassifier.html#sklearn.tree.DecisionTreeClassifier.fit\n",
        "# and the example ML code from the lecture slides.\n",
        "\n",
        "### COPY THE CODE YOU PUT HERE INTO HOMEWORK QUESTION #4 (CANVAS) ###\n"
      ]
    },
    {
      "cell_type": "code",
      "execution_count": null,
      "metadata": {
        "id": "tz1D_EJlJ4Lz"
      },
      "outputs": [],
      "source": [
        "# CELL 10\n",
        "\n",
        "# Use the trained model to predict the testing-set labels from the testing-set\n",
        "# features. Story these predictions in a variable called `predictions`. See\n",
        "# https://scikit-learn.org/dev/modules/generated/sklearn.tree.DecisionTreeClassifier.html#sklearn.tree.DecisionTreeClassifier.predict\n",
        "# and the example ML code from the lecture slides.\n",
        "\n",
        "predictions = ### COPY THE CODE YOU PUT HERE INTO HOMEWORK QUESTION #5 (CANVAS) ###"
      ]
    },
    {
      "cell_type": "code",
      "execution_count": null,
      "metadata": {
        "id": "ipuUC-mEJ4Lz"
      },
      "outputs": [],
      "source": [
        "# CELL 11\n",
        "\n",
        "# This code evaluates the accuracy of the model. You do not need to modify it.\n",
        "# But enter the value you get into homework question #6 on Canvas.\n",
        "\n",
        "# Calculate the accuracy\n",
        "print(accuracy_score(test_labels, predictions))"
      ]
    }
  ],
  "metadata": {
    "kernelspec": {
      "display_name": "base",
      "language": "python",
      "name": "python3"
    },
    "language_info": {
      "codemirror_mode": {
        "name": "ipython",
        "version": 3
      },
      "file_extension": ".py",
      "mimetype": "text/x-python",
      "name": "python",
      "nbconvert_exporter": "python",
      "pygments_lexer": "ipython3",
      "version": "3.9.7"
    },
    "orig_nbformat": 4,
    "colab": {
      "provenance": []
    }
  },
  "nbformat": 4,
  "nbformat_minor": 0
}